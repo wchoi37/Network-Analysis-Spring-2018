{
 "cells": [
  {
   "cell_type": "markdown",
   "metadata": {},
   "source": [
    "## Instructions\n",
    "\n",
    "Execute the cells and also write your answer in the required spaces.\n",
    "\n",
    "Make sure you update the `__author__` variable's value with your own name."
   ]
  },
  {
   "cell_type": "code",
   "execution_count": null,
   "metadata": {},
   "outputs": [],
   "source": [
    "%matplotlib inline\n",
    "\n",
    "import networkx as nx\n",
    "import matplotlib.pyplot as plt\n",
    "import seaborn as sns\n",
    "\n",
    "import numpy as np\n",
    "import pandas as pd\n",
    "\n",
    "from datetime import datetime\n",
    "import sys\n",
    "sys.path.append('../../helper_libraries')\n",
    "\n",
    "__author__ = \"Wonjun Choi\"\n",
    "__completion_time__ = datetime.now()\n",
    "\n",
    "print(\"Submission created by {} at {}\".format(__author__, __completion_time__))"
   ]
  },
  {
   "cell_type": "code",
   "execution_count": null,
   "metadata": {},
   "outputs": [],
   "source": [
    "from utilities import read_UCINET_matrix, get_all_node_metrics, get_all_graph_metrics\n",
    "from utilities import get_nodes_as_dataframe\n",
    "from utilities import plot_network, run_all_simulations"
   ]
  },
  {
   "cell_type": "code",
   "execution_count": null,
   "metadata": {},
   "outputs": [],
   "source": [
    "sns.set_context(\"poster\")\n",
    "sns.set_style(\"ticks\")"
   ]
  },
  {
   "cell_type": "code",
   "execution_count": null,
   "metadata": {},
   "outputs": [],
   "source": [
    "sheet_name=\"FRIENDSHIP\"\n",
    "G = read_UCINET_matrix(\n",
    "    \"../../data/krack-high-tec.xlsx\",\n",
    "    sheet_name=sheet_name,\n",
    "    attribute_file=\"../../data/high-tec-attributes.xlsx\",\n",
    "    directed=False\n",
    ")"
   ]
  },
  {
   "cell_type": "markdown",
   "metadata": {},
   "source": [
    "## Node metrics\n",
    "a) What are the top 3 nodes based on each of the centrality measures? How are these nodes different from the ones identified in the directed network in previous homework?"
   ]
  },
  {
   "cell_type": "code",
   "execution_count": null,
   "metadata": {},
   "outputs": [],
   "source": [
    "df_node_metrics = get_all_node_metrics(G)\n",
    "df = get_nodes_as_dataframe(G)\n",
    "df"
   ]
  },
  {
   "cell_type": "markdown",
   "metadata": {},
   "source": [
    "## Explore relation between node attributes and metrics\n",
    "\n",
    "Try running the cell below by choosing different values for each of the variables (make sure you omit the quotes where mentioned):\n",
    "\n",
    "* `x`: 'AGE', 'TENURE'\n",
    "* `y`: 'degree', 'betweenness', 'closeness', 'eigenvector', 'clustering'\n",
    "* `hue`: None, 'LEVEL', 'DEPT'\n",
    "* `col`: None, 'LEVEL', 'DEPT'\n",
    "\n",
    "Report the relationships observed in the plots below and explain your findings.\n",
    "\n",
    "b) What patterns do you observe between various attributes and the node metrics using the plots? Explain your answer using the screen shot of the plots (you can also save the plots as a figure by right clicking and selecting “save image as…”)"
   ]
  },
  {
   "cell_type": "code",
   "execution_count": null,
   "metadata": {},
   "outputs": [],
   "source": [
    "x=\"AGE\"\n",
    "y=\"degree\"\n",
    "hue=\"LEVEL\"\n",
    "col=\"DEPT\"\n",
    "g = sns.lmplot(\n",
    "    x=x,\n",
    "    y=y,\n",
    "    hue=hue,\n",
    "    col=col,\n",
    "    data=df,\n",
    "    ci=None,\n",
    "    truncate=True, size=5\n",
    ")"
   ]
  },
  {
   "cell_type": "markdown",
   "metadata": {},
   "source": [
    "## Plot the data based on various properties of the graph\n",
    "\n",
    "c)\tSelect one node metric (degree, betweenness, closeness, eigenvector, clustering) to size the node and one node attribute (DEPT, LEVEL) to plot the network diagram.\n",
    "\n",
    "You can achieve this by setting the value for `size_attribute` and `color_attribute`"
   ]
  },
  {
   "cell_type": "code",
   "execution_count": null,
   "metadata": {},
   "outputs": [],
   "source": [
    "size_attribute=\"AGE\"\n",
    "color_attribute=\"LEVEL\"\n",
    "plot_network(\n",
    "    G,\n",
    "    node_sizes=size_attribute,\n",
    "    node_color_col=color_attribute,\n",
    "    factor=10\n",
    ")"
   ]
  },
  {
   "cell_type": "markdown",
   "metadata": {},
   "source": [
    "## Network simulation for comparison with network topology\n",
    "\n",
    "d)\tRun the network simulation and assess if the observed network is likely to be formed by: small world model, random graph model, preferential attachment model. Provide justification for each matching model and each rejected model."
   ]
  },
  {
   "cell_type": "code",
   "execution_count": null,
   "metadata": {},
   "outputs": [],
   "source": [
    "run_all_simulations(G, iters=20)"
   ]
  },
  {
   "cell_type": "markdown",
   "metadata": {},
   "source": [
    "## Download the notebook and upload the moodle\n",
    "\n",
    "e)\tDownload the notebook by selecting “File > Download as > Notebook (.ipynb)”. Upload your notebook to moodle. "
   ]
  },
  {
   "cell_type": "code",
   "execution_count": null,
   "metadata": {},
   "outputs": [],
   "source": []
  }
 ],
 "metadata": {
  "kernelspec": {
   "display_name": "Python 3",
   "language": "python",
   "name": "python3"
  },
  "language_info": {
   "codemirror_mode": {
    "name": "ipython",
    "version": 3
   },
   "file_extension": ".py",
   "mimetype": "text/x-python",
   "name": "python",
   "nbconvert_exporter": "python",
   "pygments_lexer": "ipython3",
   "version": "3.6.4"
  }
 },
 "nbformat": 4,
 "nbformat_minor": 2
}
